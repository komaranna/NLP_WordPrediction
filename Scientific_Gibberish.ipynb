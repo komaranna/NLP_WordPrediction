{
 "cells": [
  {
   "cell_type": "code",
   "execution_count": 301,
   "metadata": {
    "collapsed": false
   },
   "outputs": [],
   "source": [
    "def read_file(fileName):\n",
    "    with open(fileName, 'r') as f:\n",
    "        corpus = f.read()\n",
    "    return [word.lower() for word in corpus.split() if word.isalnum()]\n",
    "\n",
    "def read_file_sentences(fileName):\n",
    "    with open(fileName, 'r') as f:\n",
    "        corpus = f.read()\n",
    "    return corpus.split('.')\n",
    "\n",
    "def find_end_trigrams(trigrams,input_list):\n",
    "    for el in input_list:\n",
    "        words = [word.lower() for word in el.split() if word.isalnum()]\n",
    "        trigram = words[-2:]\n",
    "        trigram.append('<eos>')\n",
    "        trigrams.append(tuple(trigram))\n",
    "    return trigrams\n",
    "\n",
    "def find_bigrams(input_list):\n",
    "    return zip(input_list, input_list[1:])\n",
    "\n",
    "def find_trigrams(input_list):\n",
    "    return zip(input_list, input_list[1:], input_list[2:])"
   ]
  },
  {
   "cell_type": "code",
   "execution_count": 305,
   "metadata": {
    "collapsed": false
   },
   "outputs": [],
   "source": [
    "trigrams = find_trigrams(read_file('papers/Ch1.tex'))"
   ]
  },
  {
   "cell_type": "code",
   "execution_count": 307,
   "metadata": {
    "collapsed": false
   },
   "outputs": [
    {
     "name": "stdout",
     "output_type": "stream",
     "text": [
      "[('per', 'construction', '<eos>'), ('procedure', 'involves', '<eos>'), ('large', 'energy', '<eos>'), ('with', 'temperature', '<eos>'), ('this', 'operation', '<eos>'), ('of', 'anyons', '<eos>'), ('theory', 'emerges', '<eos>'), ('and', 'emerge', '<eos>'), ('trivial', 'theory', '<eos>'), ('<eos>',)]\n"
     ]
    }
   ],
   "source": [
    "sentences = read_file_sentences('papers/Ch1.tex')\n",
    "trigrams = find_end_trigrams(trigrams,sentences)\n",
    "print trigrams[-10:]"
   ]
  },
  {
   "cell_type": "code",
   "execution_count": 35,
   "metadata": {
    "collapsed": false
   },
   "outputs": [
    {
     "name": "stdout",
     "output_type": "stream",
     "text": [
      "[('the', 'concept'), ('concept', 'of'), ('of', 'quantum'), ('quantum', 'computers'), ('computers', 'was'), ('was', 'first'), ('first', 'introduced'), ('introduced', 'by'), ('by', 'richard'), ('richard', 'feynman')]\n"
     ]
    }
   ],
   "source": [
    "bigrams = find_bigrams(read_file('papers/Ch1.tex'))\n",
    "print bigrams[0:10]"
   ]
  },
  {
   "cell_type": "code",
   "execution_count": 44,
   "metadata": {
    "collapsed": false
   },
   "outputs": [
    {
     "name": "stdout",
     "output_type": "stream",
     "text": [
      "3\n"
     ]
    }
   ],
   "source": [
    "from collections import Counter\n",
    "dictionary = Counter(bigrams)\n",
    "print dictionary[('quantum', 'computers')]"
   ]
  },
  {
   "cell_type": "code",
   "execution_count": 308,
   "metadata": {
    "collapsed": false
   },
   "outputs": [
    {
     "name": "stdout",
     "output_type": "stream",
     "text": [
      "19\n"
     ]
    }
   ],
   "source": [
    "dictionary_tri = Counter(trigrams)\n",
    "print dictionary_tri[('the', 'toric', 'code')]"
   ]
  },
  {
   "cell_type": "code",
   "execution_count": 172,
   "metadata": {
    "collapsed": false
   },
   "outputs": [],
   "source": [
    "def maximum_likelihood_prediction(dictionary, prev_word):\n",
    "    subdictionary = {key:dictionary[key] for key in dictionary if key[0]==prev_word}\n",
    "    max_key = max(subdictionary, key=subdictionary.get)\n",
    "    return max_key[-1]"
   ]
  },
  {
   "cell_type": "code",
   "execution_count": 332,
   "metadata": {
    "collapsed": false
   },
   "outputs": [],
   "source": [
    "def maximum_likelihood_prediction_tri(dictionary_tri, prev_words, randomization):\n",
    "    if prev_words[1] == '<eos>': # reached end of sentence\n",
    "        return ' '\n",
    "    else:\n",
    "        subdictionary = {key:dictionary_tri[key] for key in dictionary_tri if (key[0]==prev_words[0] and key[1]==prev_words[1])}\n",
    "        if any(subdictionary): #subdictionary is not empty\n",
    "            if randomization == False:\n",
    "                max_key = max(subdictionary, key=subdictionary.get)\n",
    "            else:\n",
    "                max_key = random.choice(subdictionary.keys())\n",
    "        else: # unknown expression, let's randomize using full set\n",
    "            max_key = random.choice(dictionary_tri.keys())\n",
    "        return max_key[-1]"
   ]
  },
  {
   "cell_type": "code",
   "execution_count": 171,
   "metadata": {
    "collapsed": false
   },
   "outputs": [
    {
     "data": {
      "text/plain": [
       "'code'"
      ]
     },
     "execution_count": 171,
     "metadata": {},
     "output_type": "execute_result"
    }
   ],
   "source": [
    "maximum_likelihood_prediction_tri(dictionary_tri, ('the', 'toric'))"
   ]
  },
  {
   "cell_type": "code",
   "execution_count": 173,
   "metadata": {
    "collapsed": false
   },
   "outputs": [
    {
     "data": {
      "text/plain": [
       "'doubles'"
      ]
     },
     "execution_count": 173,
     "metadata": {},
     "output_type": "execute_result"
    }
   ],
   "source": [
    "maximum_likelihood_prediction(dictionary, ('quantum'))"
   ]
  },
  {
   "cell_type": "code",
   "execution_count": 131,
   "metadata": {
    "collapsed": true
   },
   "outputs": [],
   "source": [
    "from collections import Counter\n",
    "def generate_sentence(prompt, filename):\n",
    "    bigrams = find_bigrams(read_file(filename))\n",
    "    dictionary = Counter(bigrams)\n",
    "\n",
    "    return maximum_likelihood_prediction(dictionary, prompt.split()[-1])"
   ]
  },
  {
   "cell_type": "code",
   "execution_count": 313,
   "metadata": {
    "collapsed": false
   },
   "outputs": [],
   "source": [
    "def generate_sentence_tri(prompt, filename, randomization):\n",
    "    trigrams = find_trigrams(read_file(filename))\n",
    "    trigrams = find_end_trigrams(trigrams,read_file_sentences(filename))\n",
    "    dictionary = Counter(trigrams)\n",
    "\n",
    "    return maximum_likelihood_prediction_tri(dictionary, prompt.split()[-2:], randomization)"
   ]
  },
  {
   "cell_type": "code",
   "execution_count": 338,
   "metadata": {
    "collapsed": false
   },
   "outputs": [
    {
     "name": "stdout",
     "output_type": "stream",
     "text": [
      "the toric code is a common eigenvector of the system <eos>                                                                                                                                                                                      \n"
     ]
    }
   ],
   "source": [
    "import random\n",
    "randomization = True\n",
    "r = 3\n",
    "filename = 'papers/Ch2.tex'\n",
    "prompt = 'the toric'\n",
    "req_length = 100\n",
    "trigrams = find_trigrams(read_file(filename))\n",
    "for i in range(req_length):\n",
    "    if randomization == True and i%r == 0:\n",
    "        new_word = generate_sentence_tri(prompt, filename, True)\n",
    "    else:\n",
    "        new_word = generate_sentence_tri(prompt, filename, False)\n",
    "    prompt = prompt + ' ' + new_word\n",
    "        \n",
    "print prompt"
   ]
  },
  {
   "cell_type": "code",
   "execution_count": 339,
   "metadata": {
    "collapsed": false
   },
   "outputs": [
    {
     "name": "stdout",
     "output_type": "stream",
     "text": [
      "the toric these operators are defined such that the resulting set of gates will have to project out part of my thesis i investigate the microscopic details the two qubits in question are in states of the toric code is a fundamentally new one that classical codes we define a generator the code creating a pair of anyons is <eos>                                                                                    \n"
     ]
    }
   ],
   "source": [
    "randomization = True\n",
    "r = 3\n",
    "filename = 'papers/Ch1.tex'\n",
    "prompt = 'the toric'\n",
    "req_length = 100\n",
    "trigrams = find_trigrams(read_file(filename))\n",
    "for i in range(req_length):\n",
    "    if randomization == True and i%r == 0:\n",
    "        new_word = generate_sentence_tri(prompt, filename, True)\n",
    "    else:\n",
    "        new_word = generate_sentence_tri(prompt, filename, False)\n",
    "    prompt = prompt + ' ' + new_word\n",
    "        \n",
    "print prompt"
   ]
  },
  {
   "cell_type": "code",
   "execution_count": 343,
   "metadata": {
    "collapsed": false
   },
   "outputs": [
    {
     "name": "stdout",
     "output_type": "stream",
     "text": [
      "quantum double structure was explored we explicitly write down the refined quantum double the spatial scale introduced by the flux to so that now consider a state whose flux is not that state is a composite anyon made of 6 we can now use lemma to express the trace of a dyon <eos>                                                                                                  \n"
     ]
    }
   ],
   "source": [
    "randomization = True\n",
    "r = 3\n",
    "filename = 'papers/Ch3.tex'\n",
    "prompt = 'quantum double'\n",
    "req_length = 100\n",
    "trigrams = find_trigrams(read_file(filename))\n",
    "for i in range(req_length):\n",
    "    if randomization == True and i%r == 0:\n",
    "        new_word = generate_sentence_tri(prompt, filename, True)\n",
    "    else:\n",
    "        new_word = generate_sentence_tri(prompt, filename, False)\n",
    "    prompt = prompt + ' ' + new_word\n",
    "        \n",
    "print prompt"
   ]
  },
  {
   "cell_type": "code",
   "execution_count": null,
   "metadata": {
    "collapsed": true
   },
   "outputs": [],
   "source": []
  }
 ],
 "metadata": {
  "kernelspec": {
   "display_name": "Python 2",
   "language": "python",
   "name": "python2"
  },
  "language_info": {
   "codemirror_mode": {
    "name": "ipython",
    "version": 2
   },
   "file_extension": ".py",
   "mimetype": "text/x-python",
   "name": "python",
   "nbconvert_exporter": "python",
   "pygments_lexer": "ipython2",
   "version": "2.7.13"
  }
 },
 "nbformat": 4,
 "nbformat_minor": 2
}
